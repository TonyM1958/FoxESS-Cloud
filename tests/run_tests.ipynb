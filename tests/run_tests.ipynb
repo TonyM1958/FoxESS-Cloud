{
 "cells": [
  {
   "cell_type": "code",
   "execution_count": null,
   "metadata": {
    "editable": true,
    "slideshow": {
     "slide_type": ""
    },
    "tags": []
   },
   "outputs": [],
   "source": [
    "# setup for testing\n",
    "import foxesscloud as f\n",
    "import private as my\n",
    "import json\n",
    "\n",
    "f.username = my.fox_username\n",
    "f.password = my.fox_password\n",
    "f.device_sn = my.fox_device_sn\n",
    "f.time_zone = \"Europe/London\"\n",
    "f.plot_file=\"plot1###.png\"\n",
    "f.debug_setting = 1"
   ]
  },
  {
   "cell_type": "code",
   "execution_count": null,
   "metadata": {},
   "outputs": [],
   "source": [
    "f.get_info()"
   ]
  },
  {
   "cell_type": "code",
   "execution_count": null,
   "metadata": {},
   "outputs": [],
   "source": [
    "f.messages['en']['0']"
   ]
  },
  {
   "cell_type": "code",
   "execution_count": null,
   "metadata": {},
   "outputs": [],
   "source": [
    "f.get_status()"
   ]
  },
  {
   "cell_type": "code",
   "execution_count": null,
   "metadata": {},
   "outputs": [],
   "source": [
    "f.get_status(station=1)"
   ]
  },
  {
   "cell_type": "code",
   "execution_count": null,
   "metadata": {},
   "outputs": [],
   "source": [
    "f.get_site()"
   ]
  },
  {
   "cell_type": "code",
   "execution_count": null,
   "metadata": {},
   "outputs": [],
   "source": [
    "f.get_logger()"
   ]
  },
  {
   "cell_type": "code",
   "execution_count": null,
   "metadata": {},
   "outputs": [],
   "source": [
    "result = f.get_device()\n",
    "print(json.dumps(result, indent=2))\n",
    "print(f\"generationToday = {result['generationToday']} kWh\")\n",
    "print(f\"generationTotal = {result['generationTotal']} kWh\")\n"
   ]
  },
  {
   "cell_type": "code",
   "execution_count": null,
   "metadata": {},
   "outputs": [],
   "source": [
    "#f.set_work_mode('SelfUse')\n",
    "f.get_work_mode()"
   ]
  },
  {
   "cell_type": "code",
   "execution_count": null,
   "metadata": {},
   "outputs": [],
   "source": [
    "f.named_settings"
   ]
  },
  {
   "cell_type": "code",
   "execution_count": null,
   "metadata": {},
   "outputs": [],
   "source": [
    "for k in ['ExportLimit', 'MinSoc', 'MinSocOnGrid', 'MaxSoc', 'GridCode', 'WorkMode']:\n",
    "    print(f\"{k} = {f.get_named_settings(k)}\")"
   ]
  },
  {
   "cell_type": "code",
   "execution_count": null,
   "metadata": {},
   "outputs": [],
   "source": [
    "#f.residual_scale = 0.01\n",
    "f.debug_setting = 2\n",
    "f.get_battery()"
   ]
  },
  {
   "cell_type": "code",
   "execution_count": null,
   "metadata": {},
   "outputs": [],
   "source": [
    "f.get_batteries()"
   ]
  },
  {
   "cell_type": "code",
   "execution_count": null,
   "metadata": {},
   "outputs": [],
   "source": [
    "f.batteries"
   ]
  },
  {
   "cell_type": "code",
   "execution_count": null,
   "metadata": {},
   "outputs": [],
   "source": [
    "f.get_settings()"
   ]
  },
  {
   "cell_type": "code",
   "execution_count": null,
   "metadata": {
    "editable": true,
    "slideshow": {
     "slide_type": ""
    },
    "tags": []
   },
   "outputs": [],
   "source": [
    "f.set_min(10,10)"
   ]
  },
  {
   "cell_type": "code",
   "execution_count": null,
   "metadata": {
    "editable": true,
    "slideshow": {
     "slide_type": ""
    },
    "tags": []
   },
   "outputs": [],
   "source": [
    "f.get_earnings()"
   ]
  },
  {
   "cell_type": "code",
   "execution_count": null,
   "metadata": {},
   "outputs": [],
   "source": [
    "f.var_list"
   ]
  },
  {
   "cell_type": "code",
   "execution_count": null,
   "metadata": {},
   "outputs": [],
   "source": [
    "f.get_history(v='generationPower', summary=1)"
   ]
  },
  {
   "cell_type": "code",
   "execution_count": null,
   "metadata": {},
   "outputs": [],
   "source": [
    "f.get_history('hour', d='2023-01-17 12', v='gridConsumptionPower', summary=1)"
   ]
  },
  {
   "cell_type": "code",
   "execution_count": null,
   "metadata": {},
   "outputs": [],
   "source": [
    "f.get_history('week', d='2023-10-21',v=['RVolt'], summary=2, station=1)"
   ]
  },
  {
   "cell_type": "code",
   "execution_count": null,
   "metadata": {
    "editable": true,
    "slideshow": {
     "slide_type": ""
    },
    "tags": []
   },
   "outputs": [],
   "source": [
    "f.get_history('day', d='2023-01-17',v=['pvPower'], summary=2)"
   ]
  },
  {
   "cell_type": "code",
   "execution_count": null,
   "metadata": {
    "editable": true,
    "slideshow": {
     "slide_type": ""
    },
    "tags": []
   },
   "outputs": [],
   "source": [
    "f.get_history('week', d='2023-08-21',v=['pvPower'], summary=2)"
   ]
  },
  {
   "cell_type": "code",
   "execution_count": null,
   "metadata": {},
   "outputs": [],
   "source": [
    "f.get_history('day', d='2023-09-01',v=['ambientTemperation'], summary=2, save='save1')"
   ]
  },
  {
   "cell_type": "code",
   "execution_count": null,
   "metadata": {},
   "outputs": [],
   "source": [
    "f.get_history('day', d='2023-09-01',v=['ambientTemperation'], summary=2, load='save1_history_day_20230901.txt')"
   ]
  },
  {
   "cell_type": "code",
   "execution_count": null,
   "metadata": {},
   "outputs": [],
   "source": [
    "f.get_history('day', d='2023-08-21',v=['pvPower','meterPower2'], summary=2)"
   ]
  },
  {
   "cell_type": "code",
   "execution_count": null,
   "metadata": {},
   "outputs": [],
   "source": [
    "result=f.get_history('day', d='2023-11-17', v=f.power_vars, summary=3)\n",
    "if result is not None:\n",
    "    for r in result:\n",
    "        print(f\"{r['name']:20} = {round(r['kwh'],3)}\")"
   ]
  },
  {
   "cell_type": "code",
   "execution_count": null,
   "metadata": {},
   "outputs": [],
   "source": [
    "d='2023-11-16'\n",
    "result=f.get_report('month', d=d, v=f.report_vars)\n",
    "i = int(d[8:10])-1\n",
    "if result is not None:\n",
    "    for r in result:\n",
    "        print(f\"{r['variable']:20} = {round(r['data'][i]['value'],3)}\")"
   ]
  },
  {
   "cell_type": "code",
   "execution_count": null,
   "metadata": {},
   "outputs": [],
   "source": [
    "f.get_report('day', d='2023-01-17', v='generation', summary=2)"
   ]
  },
  {
   "cell_type": "code",
   "execution_count": null,
   "metadata": {},
   "outputs": [],
   "source": [
    "f.get_report('week', d='2023-11-17', v='feedin', summary=2, save='feedin')"
   ]
  },
  {
   "cell_type": "code",
   "execution_count": null,
   "metadata": {},
   "outputs": [],
   "source": [
    "f.get_report('week', station=1)"
   ]
  },
  {
   "cell_type": "code",
   "execution_count": null,
   "metadata": {},
   "outputs": [],
   "source": [
    "f.get_report('year', d='2023-11-17', v='generation')"
   ]
  },
  {
   "cell_type": "code",
   "execution_count": null,
   "metadata": {},
   "outputs": [],
   "source": [
    "for d in f.date_list('2023-01-01', '2023-02-01'):\n",
    "    result = f.get_raw('day', d, v=['pvPower'], summary=2)\n",
    "    if result is not None:\n",
    "        maxx = result[0].get('max')\n",
    "        if maxx is not None and maxx > 0 and maxx < 100:\n",
    "            print(f\"{d} is valid, max pvPower = {maxx:.3f}kW\")\n",
    "            break"
   ]
  },
  {
   "cell_type": "code",
   "execution_count": null,
   "metadata": {},
   "outputs": [],
   "source": [
    "for d in f.date_list('2023-01-17', '2023-01-30'):\n",
    "    result = f.get_raw('day', d, v=['pv1Volt', 'pv1Current', 'pv2Volt', 'pv2Current', 'pvPower'], summary=1)\n",
    "    if result is not None:\n",
    "        wh = 0.0\n",
    "        for i,data in enumerate(result[0]['data']):\n",
    "            wh += result[0]['data'][i]['value'] * result[1]['data'][i]['value'] / 60 * f.sample_time   # pv1Volt * pv1Current \n",
    "            wh += result[2]['data'][i]['value'] * result[3]['data'][i]['value'] / 60 * f.sample_time   # pv2Volt * pv2Current\n",
    "        print(f\"{d}: generation from IV = {round(wh/1000,3):.3f}kWh, generation from pvPower = {result[4]['kwh']:.3f}kWh\")"
   ]
  },
  {
   "cell_type": "code",
   "execution_count": null,
   "metadata": {},
   "outputs": [],
   "source": [
    "result=f.get_raw('day', d=f.date_list(span='2days', today=1), v=f.power_vars, plot=1)"
   ]
  },
  {
   "cell_type": "code",
   "execution_count": null,
   "metadata": {},
   "outputs": [],
   "source": [
    "f.plot_file = None\n",
    "result=f.get_raw('day', d=f.date_list(span='2days', today=1), v=['pv1Volt', 'pv2Volt', 'pv1Current', 'pv2Current'], plot=2)"
   ]
  },
  {
   "cell_type": "code",
   "execution_count": null,
   "metadata": {},
   "outputs": [],
   "source": [
    "result=f.get_report('day', d=f.date_list(span='2days'), v=f.report_vars, summary=1, plot=1, station=1)"
   ]
  },
  {
   "cell_type": "code",
   "execution_count": null,
   "metadata": {},
   "outputs": [],
   "source": [
    "result=f.get_report('day', d=f.date_list(span='2days'), v=f.report_vars, summary=1, plot=1)"
   ]
  },
  {
   "cell_type": "code",
   "execution_count": null,
   "metadata": {},
   "outputs": [],
   "source": [
    "f.get_report('day', d=f.date_list(span='day', e='2023-02-26'), v=f.report_vars, summary=1, plot=2)"
   ]
  },
  {
   "cell_type": "code",
   "execution_count": null,
   "metadata": {},
   "outputs": [],
   "source": [
    "result=f.get_report('week', d=f.date_list(), v=f.report_vars, summary=1, plot=2)"
   ]
  },
  {
   "cell_type": "code",
   "execution_count": null,
   "metadata": {},
   "outputs": [],
   "source": [
    "result=f.get_report('month', d=f.date_list(), v=['PVEnergyTotal', 'generation', 'feedin', 'gridConsumption'], summary=1, plot=2)"
   ]
  },
  {
   "cell_type": "code",
   "execution_count": null,
   "metadata": {},
   "outputs": [],
   "source": [
    "result=f.get_report('year', d=f.date_list(), v=f.report_vars, summary=1, plot=2)\n",
    "print(result)"
   ]
  },
  {
   "cell_type": "code",
   "execution_count": null,
   "metadata": {},
   "outputs": [],
   "source": [
    "# test conversion of report data to total and 24 hour profile\n",
    "result = f.report_value_profile(f.get_report('day', f.date_list(span='week', e='2023-11-15')[-3:], v='loads'))\n",
    "print(result)"
   ]
  },
  {
   "cell_type": "code",
   "execution_count": null,
   "metadata": {},
   "outputs": [],
   "source": [
    "# test fix_value for day report\n",
    "f.fix_values = 0\n",
    "result = f.get_report('day', d='2023-09-18', v='loads')\n",
    "if result is not None:\n",
    "    print(result[0]['total'])\n",
    "f.fix_values = 1\n",
    "f.get_report('day', d='2023-09-18', v='loads')"
   ]
  },
  {
   "cell_type": "code",
   "execution_count": null,
   "metadata": {},
   "outputs": [],
   "source": [
    "# test fix_value for month report\n",
    "f.get_report('month', d='2023-09-18', v='loads')"
   ]
  },
  {
   "cell_type": "code",
   "execution_count": null,
   "metadata": {},
   "outputs": [],
   "source": [
    "# test fix_value for year report\n",
    "f.get_report('year', d='2023-09-18', v='loads')"
   ]
  },
  {
   "cell_type": "code",
   "execution_count": null,
   "metadata": {},
   "outputs": [],
   "source": [
    "# test battery_info()\n",
    "f.plot_file=\"battery.png\"\n",
    "f.battery_info()"
   ]
  },
  {
   "cell_type": "code",
   "execution_count": null,
   "metadata": {},
   "outputs": [],
   "source": [
    "# test get_named_settings()\n",
    "f.get_named_settings('WorkMode')"
   ]
  },
  {
   "cell_type": "code",
   "execution_count": null,
   "metadata": {},
   "outputs": [],
   "source": [
    "# test schedules\n",
    "f.get_flag()"
   ]
  },
  {
   "cell_type": "code",
   "execution_count": null,
   "metadata": {},
   "outputs": [],
   "source": [
    "f.get_schedule()"
   ]
  },
  {
   "cell_type": "code",
   "execution_count": null,
   "metadata": {},
   "outputs": [],
   "source": [
    "f.build_strategy_from_schedule()"
   ]
  },
  {
   "cell_type": "code",
   "execution_count": null,
   "metadata": {},
   "outputs": [],
   "source": [
    "periods = [\n",
    "         f.set_period(2,5,'ForceCharge'),\n",
    "#         f.set_period(7,10,'SelfUse'), f.set_period(11,12,'Feedin'),\n",
    "         f.set_period(12,14,'Feedin'), f.set_period(14,15,'Feedin'),\n",
    "         f.set_period(15,16,'Feedin'), f.set_period(19,20,'Feedin'),\n",
    "         f.set_period(21,22,'Feedin'), f.set_period(22,23,'Feedin'),\n",
    "          ]\n",
    "f.set_schedule(periods=periods)"
   ]
  },
  {
   "cell_type": "code",
   "execution_count": null,
   "metadata": {},
   "outputs": [],
   "source": [
    "f.set_schedule(enable=0)\n",
    "f.debug_setting=1"
   ]
  },
  {
   "cell_type": "code",
   "execution_count": null,
   "metadata": {},
   "outputs": [],
   "source": [
    "f.british_summer_time()"
   ]
  },
  {
   "cell_type": "code",
   "execution_count": null,
   "metadata": {},
   "outputs": [],
   "source": [
    "# test british summer time\n",
    "import datetime\n",
    "dates = f.date_list(span='year', today=2, s=datetime.datetime.now())\n",
    "flags = f.british_summer_time(dates)\n",
    "last = None\n",
    "for date, flag in zip(dates, flags):\n",
    "    if last is not None and last != flag:\n",
    "        print(f\"{date} = {flag}\")\n",
    "    last = flag"
   ]
  },
  {
   "cell_type": "code",
   "execution_count": null,
   "metadata": {},
   "outputs": [],
   "source": [
    "import datetime\n",
    "dat = datetime.datetime.strptime('2025-03-30 00:00', '%Y-%m-%d %H:%M')\n",
    "for i in range(0,4):\n",
    "    print(f\"{dat} = {f.british_summer_time(dat)}\")\n",
    "    dat = dat + datetime.timedelta(hours=1)"
   ]
  },
  {
   "cell_type": "code",
   "execution_count": null,
   "metadata": {},
   "outputs": [],
   "source": [
    "f.get_report('day', d=f.date_list(span='weekday',e='2023-10-10',today=2),v='loads',summary=2)"
   ]
  },
  {
   "cell_type": "code",
   "execution_count": null,
   "metadata": {},
   "outputs": [],
   "source": [
    "template = f.find_template('Daily')\n",
    "print(f\"found: {template}\")\n",
    "f.templates"
   ]
  },
  {
   "cell_type": "code",
   "execution_count": null,
   "metadata": {},
   "outputs": [],
   "source": [
    "f.debug_setting=1\n",
    "#f.set_schedule(template='DailyRunning')\n",
    "#f.set_schedule(template=template)"
   ]
  },
  {
   "cell_type": "code",
   "execution_count": null,
   "metadata": {},
   "outputs": [],
   "source": [
    "f.set_schedule(enable=0)"
   ]
  },
  {
   "cell_type": "code",
   "execution_count": null,
   "metadata": {},
   "outputs": [],
   "source": [
    "f.set_work_mode('SelfUse')"
   ]
  },
  {
   "cell_type": "code",
   "execution_count": null,
   "metadata": {},
   "outputs": [],
   "source": [
    "f.set_min(10,10)"
   ]
  },
  {
   "cell_type": "code",
   "execution_count": null,
   "metadata": {},
   "outputs": [],
   "source": [
    "f.set_charge(st1=2,en1=5,ch1=1)"
   ]
  },
  {
   "cell_type": "code",
   "execution_count": null,
   "metadata": {},
   "outputs": [],
   "source": [
    "f.response_time"
   ]
  },
  {
   "cell_type": "code",
   "execution_count": null,
   "metadata": {},
   "outputs": [],
   "source": [
    "f.named_settings"
   ]
  },
  {
   "cell_type": "code",
   "execution_count": null,
   "metadata": {},
   "outputs": [],
   "source": [
    "f.debug_setting=1\n",
    "result = f.get_history('day', d='2025-01-16', v='generationPower', summary=1)\n",
    "times = [f.time_hours(x['time'][11:19]) for x in result[0]['data']]\n",
    "intervals = [60 * (times[i+1] - times[i]) for i in range(0, len(times)-1)]\n",
    "print(f\"{len(times)} samples\")\n",
    "print(f\"Min sample time = {min(intervals):.2f} minutes\")\n",
    "print(f\"Max sample time = {max(intervals):.2f} minutes\")\n",
    "print(f\"Avg sample time = {sum(intervals) / len(intervals):.2f} minutes\")\n"
   ]
  },
  {
   "cell_type": "code",
   "execution_count": null,
   "metadata": {},
   "outputs": [],
   "source": []
  }
 ],
 "metadata": {
  "kernelspec": {
   "display_name": "Python 3 (ipykernel)",
   "language": "python",
   "name": "python3"
  },
  "language_info": {
   "codemirror_mode": {
    "name": "ipython",
    "version": 3
   },
   "file_extension": ".py",
   "mimetype": "text/x-python",
   "name": "python",
   "nbconvert_exporter": "python",
   "pygments_lexer": "ipython3",
   "version": "3.13.5"
  }
 },
 "nbformat": 4,
 "nbformat_minor": 4
}
